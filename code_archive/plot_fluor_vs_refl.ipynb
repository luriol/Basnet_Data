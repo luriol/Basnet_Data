{
 "cells": [
  {
   "cell_type": "code",
   "execution_count": 5,
   "metadata": {},
   "outputs": [
    {
     "ename": "AttributeError",
     "evalue": "'Grouper' object has no attribute '_ordering'",
     "output_type": "error",
     "traceback": [
      "\u001b[1;31m---------------------------------------------------------------------------\u001b[0m",
      "\u001b[1;31mAttributeError\u001b[0m                            Traceback (most recent call last)",
      "Cell \u001b[1;32mIn[5], line 13\u001b[0m\n\u001b[0;32m     11\u001b[0m file_path \u001b[38;5;241m=\u001b[39m result_dir \u001b[38;5;241m/\u001b[39m \u001b[38;5;124mf\u001b[39m\u001b[38;5;124m\"\u001b[39m\u001b[38;5;132;01m{\u001b[39;00mname\u001b[38;5;132;01m}\u001b[39;00m\u001b[38;5;124m.pkl\u001b[39m\u001b[38;5;124m\"\u001b[39m  \u001b[38;5;66;03m# Properly join Path and filename\u001b[39;00m\n\u001b[0;32m     12\u001b[0m \u001b[38;5;28;01mwith\u001b[39;00m \u001b[38;5;28mopen\u001b[39m(file_path, \u001b[38;5;124m\"\u001b[39m\u001b[38;5;124mrb\u001b[39m\u001b[38;5;124m\"\u001b[39m) \u001b[38;5;28;01mas\u001b[39;00m fd:\n\u001b[1;32m---> 13\u001b[0m     fig \u001b[38;5;241m=\u001b[39m pk\u001b[38;5;241m.\u001b[39mload(fd)  \u001b[38;5;66;03m# This retrieves the saved figure\u001b[39;00m\n\u001b[0;32m     14\u001b[0m \u001b[38;5;66;03m# Get the first (or relevant) axis\u001b[39;00m\n\u001b[0;32m     15\u001b[0m ax0 \u001b[38;5;241m=\u001b[39m fig\u001b[38;5;241m.\u001b[39maxes[\u001b[38;5;241m0\u001b[39m]  \u001b[38;5;66;03m# Access the first Axes object\u001b[39;00m\n",
      "File \u001b[1;32mc:\\Users\\lluri\\anaconda3\\Lib\\site-packages\\matplotlib\\cbook.py:871\u001b[0m, in \u001b[0;36mGrouper.__setstate__\u001b[1;34m(self, state)\u001b[0m\n\u001b[0;32m    868\u001b[0m \u001b[38;5;66;03m# Convert strong refs to weak ones.\u001b[39;00m\n\u001b[0;32m    869\u001b[0m \u001b[38;5;28mself\u001b[39m\u001b[38;5;241m.\u001b[39m_mapping \u001b[38;5;241m=\u001b[39m weakref\u001b[38;5;241m.\u001b[39mWeakKeyDictionary(\n\u001b[0;32m    870\u001b[0m     {k: weakref\u001b[38;5;241m.\u001b[39mWeakSet(v) \u001b[38;5;28;01mfor\u001b[39;00m k, v \u001b[38;5;129;01min\u001b[39;00m \u001b[38;5;28mself\u001b[39m\u001b[38;5;241m.\u001b[39m_mapping\u001b[38;5;241m.\u001b[39mitems()})\n\u001b[1;32m--> 871\u001b[0m \u001b[38;5;28mself\u001b[39m\u001b[38;5;241m.\u001b[39m_ordering \u001b[38;5;241m=\u001b[39m weakref\u001b[38;5;241m.\u001b[39mWeakKeyDictionary(\u001b[38;5;28mself\u001b[39m\u001b[38;5;241m.\u001b[39m_ordering)\n",
      "\u001b[1;31mAttributeError\u001b[0m: 'Grouper' object has no attribute '_ordering'"
     ]
    }
   ],
   "source": [
    "import matplotlib \n",
    "import matplotlib.pyplot as plt\n",
    "import pickle as pk \n",
    "from pathlib import Path\n",
    "data_dir = Path(\"../data_archive\")\n",
    "result_dir = Path(\"../result_archive\")\n",
    "plot_dir = Path(\"../figure_archive\")\n",
    "\n",
    "names = ['10_fluor_vs_refl','2_fluor_vs_refl',  '5a_fluor_vs_refl']\n",
    "for name in names:\n",
    "    file_path = result_dir / f\"{name}.pkl\"  # Properly join Path and filename\n",
    "    with open(file_path, \"rb\") as fd:\n",
    "        fig = pk.load(fd)  # This retrieves the saved figure\n",
    "    # Get the first (or relevant) axis\n",
    "    ax0 = fig.axes[0]  # Access the first Axes object\n",
    "    ax1 = fig.axes[1]  # Access the first Axes object\n",
    "\n",
    "    # Modify the title\n",
    "    ax0.set_title(\"\")\n",
    "    ax1.set_title(\"\")\n",
    "\n",
    "    # Show the updated figure\n",
    "\n",
    "    plt.savefig(name+'.jpg')\n",
    "\n",
    "    plt.show()"
   ]
  }
 ],
 "metadata": {
  "kernelspec": {
   "display_name": "base",
   "language": "python",
   "name": "python3"
  },
  "language_info": {
   "codemirror_mode": {
    "name": "ipython",
    "version": 3
   },
   "file_extension": ".py",
   "mimetype": "text/x-python",
   "name": "python",
   "nbconvert_exporter": "python",
   "pygments_lexer": "ipython3",
   "version": "3.12.7"
  }
 },
 "nbformat": 4,
 "nbformat_minor": 2
}
